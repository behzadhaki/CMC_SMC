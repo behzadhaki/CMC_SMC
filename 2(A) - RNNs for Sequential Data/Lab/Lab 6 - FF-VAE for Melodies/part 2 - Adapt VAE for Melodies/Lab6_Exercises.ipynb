{
 "cells": [
  {
   "cell_type": "markdown",
   "metadata": {},
   "source": [
    "### Lab 6 - Exercises\n",
    "#### Please use this notebook for completing the required tasks for Lab 6\n",
    "In this lab, we will be discussing how to implement a variational auto-encoder in pyTorch. In Part 1 of this lab, we will start with a tutorial packaged in Torch (on how to use VAEs on MNIST digit dataset). Then, in Part 2, we will modify the model for a melody generation task."
   ]
  },
  {
   "cell_type": "markdown",
   "metadata": {
    "pycharm": {
     "name": "#%% md\n"
    }
   },
   "source": [
    "For this lab, you will be needing the following Python libraries:\n",
    "\n",
    "1. PyTorch and TorchVision: https://pytorch.org/get-started/locally/\n",
    "2. Pandas: https://pandas.pydata.org/pandas-docs/stable/getting_started/install.html\n",
    "\n",
    "Note: You may need other dependencies that are not mentioned here. A Docker image will also be provided sometime in the next week, however, please ensure that you have these dependencies installed in case the preparation of the Docker image gets delayed."
   ]
  },
  {
   "cell_type": "markdown",
   "metadata": {
    "pycharm": {
     "name": "#%% md\n"
    }
   },
   "source": [
    "### TASK 1\n",
    "Install all dependencies and make sure that the provided exercises work on your local computers [2 Marks]"
   ]
  },
  {
   "cell_type": "code",
   "execution_count": 3,
   "metadata": {
    "pycharm": {
     "name": "#%%\n"
    }
   },
   "outputs": [],
   "source": [
    "from data.data import MelodyDataset, note_to_index_dict\n",
    "import torch\n",
    "from torchvision.utils import save_image\n",
    "import os"
   ]
  },
  {
   "cell_type": "code",
   "execution_count": 6,
   "metadata": {
    "pycharm": {
     "name": "#%%\n"
    }
   },
   "outputs": [],
   "source": [
    "from model.Melody_VAE import VAE\n",
    "\n",
    "# Create an instance of the model\n",
    "vae_model = VAE()"
   ]
  },
  {
   "cell_type": "markdown",
   "metadata": {
    "pycharm": {
     "name": "#%% md\n"
    }
   },
   "source": [
    "### Task 2A\n",
    " Complete the save_model(...) method in train_melody_vae.py so as to be able to save the model\n",
    "\n",
    "    def save_model(mode, epoch):\n",
    "        ###################\n",
    "        # YOUR CODE HERE\n",
    "        # Append epoch number to file name\n",
    "        ###################\n",
    "        pass\n"
   ]
  },
  {
   "cell_type": "markdown",
   "metadata": {
    "pycharm": {
     "name": "#%% md\n"
    }
   },
   "source": [
    "### Task 2B\n",
    "Complete the following block of code such that you load a previously trained/saved model into the VAE() instance created above"
   ]
  },
  {
   "cell_type": "code",
   "execution_count": 13,
   "metadata": {
    "pycharm": {
     "name": "#%%\n"
    }
   },
   "outputs": [],
   "source": [
    "######################################\n",
    "# YOUR CODE HERE\n",
    "# Update the parameters in vae_model\n",
    "# (loaded above) with  pre-trained\n",
    "# parameters\n",
    "######################################"
   ]
  },
  {
   "cell_type": "markdown",
   "metadata": {
    "pycharm": {
     "name": "#%% md\n"
    }
   },
   "source": [
    "### Task 3A\n",
    "Grab two random 1-bar melodies.\n",
    "(either your own composition transcribed to the format used by the model, or two randomly sampled examples\n",
    "from the TEST set)"
   ]
  },
  {
   "cell_type": "code",
   "execution_count": 14,
   "metadata": {
    "pycharm": {
     "name": "#%%\n"
    }
   },
   "outputs": [],
   "source": [
    "######################################\n",
    "# YOUR CODE HERE\n",
    "######################################"
   ]
  },
  {
   "cell_type": "markdown",
   "metadata": {
    "pycharm": {
     "name": "#%% md\n"
    }
   },
   "source": [
    "### Task 3B\n",
    "Encode your melodies into two corresponding latent vectors (z_0 and z_1)\n",
    "\n",
    "    For encoding, use melody_vae.encode(...) and melody_vae.reparameterize(...)\n",
    "\n"
   ]
  },
  {
   "cell_type": "code",
   "execution_count": 15,
   "metadata": {
    "pycharm": {
     "name": "#%%\n"
    }
   },
   "outputs": [],
   "source": [
    "######################################\n",
    "# YOUR CODE HERE\n",
    "######################################\n"
   ]
  },
  {
   "cell_type": "markdown",
   "metadata": {
    "pycharm": {
     "name": "#%% md\n"
    }
   },
   "source": [
    "### Task 4A\n",
    "Find 5 equally distanced z-vectors between the embeddings of the two melodies above."
   ]
  },
  {
   "cell_type": "code",
   "execution_count": 10,
   "metadata": {
    "pycharm": {
     "name": "#%%\n"
    }
   },
   "outputs": [],
   "source": [
    "######################################\n",
    "# YOUR CODE HERE\n",
    "######################################"
   ]
  },
  {
   "cell_type": "markdown",
   "metadata": {
    "pycharm": {
     "name": "#%% md\n"
    }
   },
   "source": [
    "### Task 4B\n",
    "Pass each of the intermediary z-embeddings to the decoder\n",
    "\n",
    "    For decoding, use melody_vae.decode(...)\n",
    "\n",
    "Append the decoded melodies  to a list"
   ]
  },
  {
   "cell_type": "code",
   "execution_count": 11,
   "metadata": {
    "pycharm": {
     "name": "#%%\n"
    }
   },
   "outputs": [],
   "source": [
    "######################################\n",
    "# YOUR CODE HERE\n",
    "######################################"
   ]
  },
  {
   "cell_type": "markdown",
   "source": [
    "### Task 5\n",
    "Use and/or modify the save_tensors_to_image method (located in train_melody_vae.py)\n",
    "\n",
    "To save the list of the decoded intermediary melodies along with the starting and ending patterns\n",
    "\n",
    "    The image should start with melody 1 and end with melody 2"
   ],
   "metadata": {
    "collapsed": false
   }
  },
  {
   "cell_type": "code",
   "execution_count": null,
   "outputs": [],
   "source": [
    "######################################\n",
    "# YOUR CODE HERE\n",
    "######################################\n"
   ],
   "metadata": {
    "collapsed": false,
    "pycharm": {
     "name": "#%%\n"
    }
   }
  },
  {
   "cell_type": "markdown",
   "metadata": {
    "pycharm": {
     "name": "#%% md\n"
    }
   },
   "source": [
    "As always, please don’t forget to submit a video (if no audio commentary, make sure you\n",
    "submit a supporting document or add proper comments to the Jupyter Notebook) showing\n",
    "your approach and explaining your code.\n",
    "\n"
   ]
  },
  {
   "cell_type": "code",
   "execution_count": null,
   "outputs": [],
   "source": [],
   "metadata": {
    "collapsed": false,
    "pycharm": {
     "name": "#%%\n"
    }
   }
  },
  {
   "cell_type": "code",
   "execution_count": 12,
   "metadata": {
    "pycharm": {
     "name": "#%%\n"
    }
   },
   "outputs": [],
   "source": [
    "######################################\n",
    "# YOUR CODE HERE\n",
    "######################################\n"
   ]
  },
  {
   "cell_type": "code",
   "execution_count": null,
   "metadata": {
    "pycharm": {
     "name": "#%%\n"
    }
   },
   "outputs": [],
   "source": []
  }
 ],
 "metadata": {
  "kernelspec": {
   "display_name": "magent_1_7_tf",
   "language": "python",
   "name": "magent_1_7_tf"
  },
  "language_info": {
   "codemirror_mode": {
    "name": "ipython",
    "version": 3
   },
   "file_extension": ".py",
   "mimetype": "text/x-python",
   "name": "python",
   "nbconvert_exporter": "python",
   "pygments_lexer": "ipython3",
   "version": "3.6.12"
  }
 },
 "nbformat": 4,
 "nbformat_minor": 1
}